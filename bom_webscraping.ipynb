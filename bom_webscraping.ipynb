{
 "cells": [
  {
   "cell_type": "code",
   "execution_count": 5,
   "metadata": {},
   "outputs": [],
   "source": [
    "import requests\n",
    "import sys\n",
    "import numpy as np\n",
    "import pandas as pd\n",
    "import time\n",
    "import random\n",
    "import re\n",
    "from bs4 import BeautifulSoup"
   ]
  },
  {
   "cell_type": "code",
   "execution_count": 18,
   "metadata": {},
   "outputs": [
    {
     "data": {
      "text/plain": [
       "200"
      ]
     },
     "execution_count": 18,
     "metadata": {},
     "output_type": "execute_result"
    }
   ],
   "source": [
    "time.sleep(random.randrange(1,5,1))\n",
    "page = requests.get(\"https://www.boxofficemojo.com/year/world/2000/\")\n",
    "page.status_code"
   ]
  },
  {
   "cell_type": "code",
   "execution_count": 19,
   "metadata": {},
   "outputs": [],
   "source": [
    "soup = BeautifulSoup(page.content, 'html.parser')"
   ]
  },
  {
   "cell_type": "code",
   "execution_count": 20,
   "metadata": {},
   "outputs": [],
   "source": [
    "href = soup.select(\"#table .a-link-normal:not(.a-nowrap)\")[5]['href']\n",
    "movie_title = soup.select(\"#table .a-link-normal:not(.a-nowrap)\")[5].text"
   ]
  },
  {
   "cell_type": "code",
   "execution_count": 21,
   "metadata": {},
   "outputs": [
    {
     "data": {
      "text/plain": [
       "'/releasegroup/gr3123859973/?ref_=bo_ydw_table_6'"
      ]
     },
     "execution_count": 21,
     "metadata": {},
     "output_type": "execute_result"
    }
   ],
   "source": [
    "href"
   ]
  },
  {
   "cell_type": "code",
   "execution_count": 22,
   "metadata": {},
   "outputs": [
    {
     "data": {
      "text/plain": [
       "'How the Grinch Stole Christmas'"
      ]
     },
     "execution_count": 22,
     "metadata": {},
     "output_type": "execute_result"
    }
   ],
   "source": [
    "movie_title"
   ]
  },
  {
   "cell_type": "code",
   "execution_count": 23,
   "metadata": {},
   "outputs": [
    {
     "data": {
      "text/plain": [
       "200"
      ]
     },
     "execution_count": 23,
     "metadata": {},
     "output_type": "execute_result"
    }
   ],
   "source": [
    "time.sleep(random.randrange(1,5,1))\n",
    "page = requests.get(\"https://www.boxofficemojo.com{}\".format(href))\n",
    "page.status_code"
   ]
  },
  {
   "cell_type": "code",
   "execution_count": 24,
   "metadata": {},
   "outputs": [],
   "source": [
    "soup = BeautifulSoup(page.content, 'html.parser')"
   ]
  },
  {
   "cell_type": "code",
   "execution_count": 25,
   "metadata": {},
   "outputs": [],
   "source": [
    "href = soup.select(\"table .a-link-normal\")[0]['href']"
   ]
  },
  {
   "cell_type": "code",
   "execution_count": 26,
   "metadata": {},
   "outputs": [
    {
     "data": {
      "text/plain": [
       "200"
      ]
     },
     "execution_count": 26,
     "metadata": {},
     "output_type": "execute_result"
    }
   ],
   "source": [
    "time.sleep(random.randrange(1,5,1))\n",
    "page = requests.get(\"https://www.boxofficemojo.com{}\".format(href))\n",
    "page.status_code"
   ]
  },
  {
   "cell_type": "code",
   "execution_count": 27,
   "metadata": {},
   "outputs": [],
   "source": [
    "soup = BeautifulSoup(page.content, 'html.parser')\n",
    "genres = soup.select(\".mojo-summary-values div\")[6].text.replace('\\n','')\n",
    "genres = re.sub(r'\\s+',' ',genres)\n",
    "genres = re.sub('Genres', 'Genres ', genres)\n",
    "genres = genres.split()\n",
    "genres = genres[1:]\n",
    "\n",
    "# minutes = soup.select(\".mojo-summary-values div\")[5].text\n",
    "# minutes = list(re.findall(r'Running Time(\\d*)(?: hr)*\\s*(\\d*)(?: min)*',minutes)[0])\n",
    "# minutes = int(minutes[0]) * 60 + int(minutes[1])"
   ]
  },
  {
   "cell_type": "code",
   "execution_count": 28,
   "metadata": {},
   "outputs": [
    {
     "data": {
      "text/plain": [
       "'Nov 26, 2000Sunday1$12,551,670-36.7%-25%3,134$4,005$137,095,80010false'"
      ]
     },
     "execution_count": 28,
     "metadata": {},
     "output_type": "execute_result"
    }
   ],
   "source": [
    "soup.select(\"#table tr\")[10].text"
   ]
  },
  {
   "cell_type": "code",
   "execution_count": 31,
   "metadata": {
    "scrolled": false
   },
   "outputs": [],
   "source": [
    "data = []\n",
    "pattern = r'([a-zA-Z]{3}\\s\\d{1,2},\\s[12][09]\\d{2})(?:.*Day|.*Eve|Easter Sunday|Thanksgiving|Halloween)?([a-zA-Z]*)([\\d]*)\\$([\\w,]*)(-|(?:[+-<][\\d\\.,]+))[%]?(-|(?:[+-<][\\d\\.,]+))[%]?([\\d,]+)\\$([\\d,]+)\\$((?:[\\d]{0,3},)*[\\d]{3})(\\d{1,4})'\n",
    "for index, x in enumerate(soup.select(\"#table tr\")[1:]):\n",
    "    string = x.text\n",
    "    data.append(list(re.findall(pattern, string)[0]))"
   ]
  },
  {
   "cell_type": "code",
   "execution_count": 30,
   "metadata": {},
   "outputs": [
    {
     "data": {
      "text/plain": [
       "76"
      ]
     },
     "execution_count": 30,
     "metadata": {},
     "output_type": "execute_result"
    }
   ],
   "source": [
    "index"
   ]
  },
  {
   "cell_type": "code",
   "execution_count": 40,
   "metadata": {},
   "outputs": [
    {
     "data": {
      "text/plain": [
       "'Apr 15, 2001Easter SundaySunday5$6,442-42.5%-71.5%46$140$187,670,866346false'"
      ]
     },
     "execution_count": 40,
     "metadata": {},
     "output_type": "execute_result"
    }
   ],
   "source": [
    "soup.select(\"#table tr\")[223].text"
   ]
  },
  {
   "cell_type": "code",
   "execution_count": 14,
   "metadata": {},
   "outputs": [],
   "source": [
    "df = pd.DataFrame(data, columns = ['date','dow','rank','daily_revenue','+/-YD','+/-LW','theaters','theater_avg','revenue_to_date','week'])"
   ]
  },
  {
   "cell_type": "code",
   "execution_count": 16,
   "metadata": {},
   "outputs": [],
   "source": [
    "df['movie_title'] = movie_title\n",
    "# df['runtime'] = minutes\n",
    "df['genre'] = [genres for x in range(df.shape[0])]"
   ]
  },
  {
   "cell_type": "code",
   "execution_count": 17,
   "metadata": {},
   "outputs": [],
   "source": [
    "scraped = pd.DataFrame()"
   ]
  },
  {
   "cell_type": "code",
   "execution_count": 18,
   "metadata": {},
   "outputs": [],
   "source": [
    "scraped = pd.concat([scraped.copy(), df], ignore_index = True)"
   ]
  },
  {
   "cell_type": "code",
   "execution_count": 19,
   "metadata": {
    "scrolled": true
   },
   "outputs": [
    {
     "data": {
      "text/html": [
       "<div>\n",
       "<style scoped>\n",
       "    .dataframe tbody tr th:only-of-type {\n",
       "        vertical-align: middle;\n",
       "    }\n",
       "\n",
       "    .dataframe tbody tr th {\n",
       "        vertical-align: top;\n",
       "    }\n",
       "\n",
       "    .dataframe thead th {\n",
       "        text-align: right;\n",
       "    }\n",
       "</style>\n",
       "<table border=\"1\" class=\"dataframe\">\n",
       "  <thead>\n",
       "    <tr style=\"text-align: right;\">\n",
       "      <th></th>\n",
       "      <th>date</th>\n",
       "      <th>dow</th>\n",
       "      <th>rank</th>\n",
       "      <th>daily_revenue</th>\n",
       "      <th>+/-YD</th>\n",
       "      <th>+/-LW</th>\n",
       "      <th>theaters</th>\n",
       "      <th>theater_avg</th>\n",
       "      <th>revenue_to_date</th>\n",
       "      <th>week</th>\n",
       "      <th>movie_title</th>\n",
       "      <th>genre</th>\n",
       "    </tr>\n",
       "  </thead>\n",
       "  <tbody>\n",
       "    <tr>\n",
       "      <th>0</th>\n",
       "      <td>Dec 22, 2000</td>\n",
       "      <td>Friday</td>\n",
       "      <td>1</td>\n",
       "      <td>11,755,000</td>\n",
       "      <td>-</td>\n",
       "      <td>-</td>\n",
       "      <td>2,774</td>\n",
       "      <td>4,237</td>\n",
       "      <td>11,755,000</td>\n",
       "      <td>1</td>\n",
       "      <td>Cast Away</td>\n",
       "      <td>[Adventure, Drama, Romance]</td>\n",
       "    </tr>\n",
       "    <tr>\n",
       "      <th>1</th>\n",
       "      <td>Dec 23, 2000</td>\n",
       "      <td>Saturday</td>\n",
       "      <td>1</td>\n",
       "      <td>12,145,000</td>\n",
       "      <td>+3.3</td>\n",
       "      <td>-</td>\n",
       "      <td>2,774</td>\n",
       "      <td>4,378</td>\n",
       "      <td>23,900,000</td>\n",
       "      <td>2</td>\n",
       "      <td>Cast Away</td>\n",
       "      <td>[Adventure, Drama, Romance]</td>\n",
       "    </tr>\n",
       "    <tr>\n",
       "      <th>2</th>\n",
       "      <td>Dec 24, 2000</td>\n",
       "      <td>Sunday</td>\n",
       "      <td>1</td>\n",
       "      <td>5,820,000</td>\n",
       "      <td>-52.1</td>\n",
       "      <td>-</td>\n",
       "      <td>2,774</td>\n",
       "      <td>2,098</td>\n",
       "      <td>28,883,406</td>\n",
       "      <td>3</td>\n",
       "      <td>Cast Away</td>\n",
       "      <td>[Adventure, Drama, Romance]</td>\n",
       "    </tr>\n",
       "    <tr>\n",
       "      <th>3</th>\n",
       "      <td>Dec 25, 2000</td>\n",
       "      <td>Monday</td>\n",
       "      <td>1</td>\n",
       "      <td>10,968,669</td>\n",
       "      <td>+88.5</td>\n",
       "      <td>-</td>\n",
       "      <td>2,774</td>\n",
       "      <td>3,954</td>\n",
       "      <td>39,852,075</td>\n",
       "      <td>4</td>\n",
       "      <td>Cast Away</td>\n",
       "      <td>[Adventure, Drama, Romance]</td>\n",
       "    </tr>\n",
       "    <tr>\n",
       "      <th>4</th>\n",
       "      <td>Dec 26, 2000</td>\n",
       "      <td>Tuesday</td>\n",
       "      <td>1</td>\n",
       "      <td>11,669,789</td>\n",
       "      <td>+6.4</td>\n",
       "      <td>-</td>\n",
       "      <td>2,774</td>\n",
       "      <td>4,206</td>\n",
       "      <td>51,521,864</td>\n",
       "      <td>5</td>\n",
       "      <td>Cast Away</td>\n",
       "      <td>[Adventure, Drama, Romance]</td>\n",
       "    </tr>\n",
       "    <tr>\n",
       "      <th>5</th>\n",
       "      <td>Dec 27, 2000</td>\n",
       "      <td>Wednesday</td>\n",
       "      <td>1</td>\n",
       "      <td>9,293,175</td>\n",
       "      <td>-20.4</td>\n",
       "      <td>-</td>\n",
       "      <td>2,774</td>\n",
       "      <td>3,350</td>\n",
       "      <td>60,815,039</td>\n",
       "      <td>6</td>\n",
       "      <td>Cast Away</td>\n",
       "      <td>[Adventure, Drama, Romance]</td>\n",
       "    </tr>\n",
       "    <tr>\n",
       "      <th>6</th>\n",
       "      <td>Dec 28, 2000</td>\n",
       "      <td>Thursday</td>\n",
       "      <td>1</td>\n",
       "      <td>8,835,686</td>\n",
       "      <td>-4.9</td>\n",
       "      <td>-</td>\n",
       "      <td>2,774</td>\n",
       "      <td>3,185</td>\n",
       "      <td>69,650,725</td>\n",
       "      <td>7</td>\n",
       "      <td>Cast Away</td>\n",
       "      <td>[Adventure, Drama, Romance]</td>\n",
       "    </tr>\n",
       "    <tr>\n",
       "      <th>7</th>\n",
       "      <td>Dec 29, 2000</td>\n",
       "      <td>Friday</td>\n",
       "      <td>1</td>\n",
       "      <td>11,120,000</td>\n",
       "      <td>+25.9</td>\n",
       "      <td>-5.4</td>\n",
       "      <td>2,774</td>\n",
       "      <td>4,008</td>\n",
       "      <td>80,770,725</td>\n",
       "      <td>8</td>\n",
       "      <td>Cast Away</td>\n",
       "      <td>[Adventure, Drama, Romance]</td>\n",
       "    </tr>\n",
       "    <tr>\n",
       "      <th>8</th>\n",
       "      <td>Dec 30, 2000</td>\n",
       "      <td>Saturday</td>\n",
       "      <td>1</td>\n",
       "      <td>11,326,000</td>\n",
       "      <td>+1.9</td>\n",
       "      <td>-6.7</td>\n",
       "      <td>2,774</td>\n",
       "      <td>4,082</td>\n",
       "      <td>92,096,725</td>\n",
       "      <td>9</td>\n",
       "      <td>Cast Away</td>\n",
       "      <td>[Adventure, Drama, Romance]</td>\n",
       "    </tr>\n",
       "    <tr>\n",
       "      <th>9</th>\n",
       "      <td>Dec 31, 2000</td>\n",
       "      <td>Sunday</td>\n",
       "      <td>1</td>\n",
       "      <td>8,532,000</td>\n",
       "      <td>-24.7</td>\n",
       "      <td>+46.6</td>\n",
       "      <td>2,929</td>\n",
       "      <td>2,912</td>\n",
       "      <td>100,628,594</td>\n",
       "      <td>10</td>\n",
       "      <td>Cast Away</td>\n",
       "      <td>[Adventure, Drama, Romance]</td>\n",
       "    </tr>\n",
       "    <tr>\n",
       "      <th>10</th>\n",
       "      <td>Jan 1, 2001</td>\n",
       "      <td>Monday</td>\n",
       "      <td>1</td>\n",
       "      <td>9,060,846</td>\n",
       "      <td>+6.2</td>\n",
       "      <td>-17.4</td>\n",
       "      <td>2,929</td>\n",
       "      <td>3,093</td>\n",
       "      <td>109,689,440</td>\n",
       "      <td>11</td>\n",
       "      <td>Cast Away</td>\n",
       "      <td>[Adventure, Drama, Romance]</td>\n",
       "    </tr>\n",
       "  </tbody>\n",
       "</table>\n",
       "</div>"
      ],
      "text/plain": [
       "            date        dow rank daily_revenue  +/-YD  +/-LW theaters  \\\n",
       "0   Dec 22, 2000     Friday    1    11,755,000      -      -    2,774   \n",
       "1   Dec 23, 2000   Saturday    1    12,145,000   +3.3      -    2,774   \n",
       "2   Dec 24, 2000     Sunday    1     5,820,000  -52.1      -    2,774   \n",
       "3   Dec 25, 2000     Monday    1    10,968,669  +88.5      -    2,774   \n",
       "4   Dec 26, 2000    Tuesday    1    11,669,789   +6.4      -    2,774   \n",
       "5   Dec 27, 2000  Wednesday    1     9,293,175  -20.4      -    2,774   \n",
       "6   Dec 28, 2000   Thursday    1     8,835,686   -4.9      -    2,774   \n",
       "7   Dec 29, 2000     Friday    1    11,120,000  +25.9   -5.4    2,774   \n",
       "8   Dec 30, 2000   Saturday    1    11,326,000   +1.9   -6.7    2,774   \n",
       "9   Dec 31, 2000     Sunday    1     8,532,000  -24.7  +46.6    2,929   \n",
       "10   Jan 1, 2001     Monday    1     9,060,846   +6.2  -17.4    2,929   \n",
       "\n",
       "   theater_avg revenue_to_date week movie_title                        genre  \n",
       "0        4,237      11,755,000    1   Cast Away  [Adventure, Drama, Romance]  \n",
       "1        4,378      23,900,000    2   Cast Away  [Adventure, Drama, Romance]  \n",
       "2        2,098      28,883,406    3   Cast Away  [Adventure, Drama, Romance]  \n",
       "3        3,954      39,852,075    4   Cast Away  [Adventure, Drama, Romance]  \n",
       "4        4,206      51,521,864    5   Cast Away  [Adventure, Drama, Romance]  \n",
       "5        3,350      60,815,039    6   Cast Away  [Adventure, Drama, Romance]  \n",
       "6        3,185      69,650,725    7   Cast Away  [Adventure, Drama, Romance]  \n",
       "7        4,008      80,770,725    8   Cast Away  [Adventure, Drama, Romance]  \n",
       "8        4,082      92,096,725    9   Cast Away  [Adventure, Drama, Romance]  \n",
       "9        2,912     100,628,594   10   Cast Away  [Adventure, Drama, Romance]  \n",
       "10       3,093     109,689,440   11   Cast Away  [Adventure, Drama, Romance]  "
      ]
     },
     "execution_count": 19,
     "metadata": {},
     "output_type": "execute_result"
    }
   ],
   "source": [
    "scraped"
   ]
  },
  {
   "cell_type": "code",
   "execution_count": 21,
   "metadata": {
    "scrolled": true
   },
   "outputs": [
    {
     "name": "stdout",
     "output_type": "stream",
     "text": [
      "2020\n",
      "1\n",
      "2\n",
      "3\n",
      "4\n",
      "5\n",
      "6\n",
      "7\n",
      "8\n",
      "9\n",
      "10\n",
      "Movie 11 errored out in try block 3: regex error\n",
      "12\n",
      "13\n",
      "14\n",
      "15\n",
      "16\n",
      "17\n",
      "18\n",
      "19\n",
      "20\n",
      "Movie 21 errored out in try block 2\n",
      "22\n",
      "23\n",
      "Movie 24 errored out in try block 2\n",
      "Movie 25 errored out in try block 2\n"
     ]
    }
   ],
   "source": [
    "scraped = pd.DataFrame()\n",
    "# for i in range(1970,1999,1):\n",
    "i = 2020\n",
    "print(i)\n",
    "time.sleep(random.randrange(1,5,1))\n",
    "page = requests.get(\"https://www.boxofficemojo.com/year/world/{}/\".format(i))\n",
    "soup = BeautifulSoup(page.content, 'html.parser')\n",
    "for i in range(25):\n",
    "    try:\n",
    "        href = soup.select(\"#table .a-link-normal:not(.a-nowrap)\")[i]['href']\n",
    "        movie_title = soup.select(\"#table .a-link-normal:not(.a-nowrap)\")[i].text\n",
    "        time.sleep(random.randrange(1,5,1))\n",
    "        page = requests.get(\"https://www.boxofficemojo.com{}\".format(href))\n",
    "        soup2 = BeautifulSoup(page.content, 'html.parser')\n",
    "        href = soup2.select(\"table .a-link-normal\")[0]['href']\n",
    "    except:\n",
    "        print('Movie {} errored out in try block 1'.format(i + 1))\n",
    "        continue\n",
    "\n",
    "    try:\n",
    "        time.sleep(random.randrange(1,5,1))\n",
    "        page = requests.get(\"https://www.boxofficemojo.com{}\".format(href))\n",
    "        soup3 = BeautifulSoup(page.content, 'html.parser')\n",
    "        genres = soup3.select(\".mojo-summary-values div\")[6].text.replace('\\n','')\n",
    "        genres = re.sub(r'\\s+',' ',genres)\n",
    "        genres = re.sub('Genres', 'Genres ', genres)\n",
    "        genres = genres.split()\n",
    "        genres = genres[1:]\n",
    "    except:\n",
    "        print('Movie {} errored out in try block 2'.format(i + 1))\n",
    "        continue       \n",
    "\n",
    "#     minutes = soup3.select(\".mojo-summary-values div\")[5].text\n",
    "#     minutes = list(re.findall(r'Running Time(\\d*)(?: hr)*\\s*(\\d*)(?: min)*',minutes)[0])\n",
    "#     minutes = int(minutes[0]) * 60 + int(minutes[1])\n",
    "    try:\n",
    "        data = []\n",
    "        pattern = r'([a-zA-Z]{3}\\s\\d{1,2},\\s[12][09]\\d{2})(?:.*Day|.*Eve|Easter Sunday|Thanksgiving|Halloween)?([a-zA-Z]*)([\\d]*)\\$([\\w,]*)(-|(?:[+-<][\\d\\.,]+))[%]?(-|(?:[+-<][\\d\\.,]+))[%]?([\\d,]+)\\$([\\d,]+)\\$((?:[\\d]{0,3},)*[\\d]{3})(\\d{1,4})'\n",
    "        for x in soup3.select(\"#table tr\")[1:]:\n",
    "            string = x.text\n",
    "            data.append(list(re.findall(pattern, string)[0]))\n",
    "    except:\n",
    "        print('Movie {} errored out in try block 3: regex error'.format(i + 1))\n",
    "        continue\n",
    "    try:\n",
    "        df = pd.DataFrame(data, columns = ['date','dow','rank','daily_revenue','+/-YD','+/-LW','theaters','theater_avg','revenue_to_date','week'])\n",
    "        df['movie_title'] = movie_title\n",
    "    #     df['runtime'] = minutes\n",
    "        df['genre'] = [genres for x in range(df.shape[0])]\n",
    "        scraped = pd.concat([scraped.copy(), df], ignore_index = True)\n",
    "    except:\n",
    "        print('Movie {} errored out in try block 3: data is weekly instead of daily'.format(i + 1))\n",
    "        continue\n",
    "    print(i+1)\n",
    "    scraped.to_csv('scraped4.csv')"
   ]
  },
  {
   "cell_type": "markdown",
   "metadata": {},
   "source": [
    "2001 left off at the 59th"
   ]
  },
  {
   "cell_type": "code",
   "execution_count": 1,
   "metadata": {},
   "outputs": [],
   "source": [
    "import pandas as pd"
   ]
  },
  {
   "cell_type": "code",
   "execution_count": 7,
   "metadata": {},
   "outputs": [],
   "source": [
    "df = pd.read_csv('scraped.csv')"
   ]
  },
  {
   "cell_type": "code",
   "execution_count": 8,
   "metadata": {},
   "outputs": [
    {
     "data": {
      "text/plain": [
       "(91003, 13)"
      ]
     },
     "execution_count": 8,
     "metadata": {},
     "output_type": "execute_result"
    }
   ],
   "source": [
    "df.shape"
   ]
  },
  {
   "cell_type": "code",
   "execution_count": 10,
   "metadata": {},
   "outputs": [],
   "source": [
    "df1 = pd.read_csv('scraped1.csv')"
   ]
  },
  {
   "cell_type": "code",
   "execution_count": 11,
   "metadata": {},
   "outputs": [
    {
     "data": {
      "text/plain": [
       "(67002, 13)"
      ]
     },
     "execution_count": 11,
     "metadata": {},
     "output_type": "execute_result"
    }
   ],
   "source": [
    "df1.shape"
   ]
  },
  {
   "cell_type": "code",
   "execution_count": 16,
   "metadata": {},
   "outputs": [],
   "source": [
    "df2 = pd.read_csv('scraped2.csv')"
   ]
  },
  {
   "cell_type": "code",
   "execution_count": 17,
   "metadata": {},
   "outputs": [
    {
     "data": {
      "text/plain": [
       "(827, 13)"
      ]
     },
     "execution_count": 17,
     "metadata": {},
     "output_type": "execute_result"
    }
   ],
   "source": [
    "df2.shape"
   ]
  },
  {
   "cell_type": "code",
   "execution_count": 19,
   "metadata": {},
   "outputs": [],
   "source": [
    "df3 = pd.read_csv('scraped3.csv')"
   ]
  },
  {
   "cell_type": "code",
   "execution_count": 20,
   "metadata": {},
   "outputs": [
    {
     "data": {
      "text/plain": [
       "(8343, 13)"
      ]
     },
     "execution_count": 20,
     "metadata": {},
     "output_type": "execute_result"
    }
   ],
   "source": [
    "df3.shape"
   ]
  },
  {
   "cell_type": "code",
   "execution_count": 23,
   "metadata": {},
   "outputs": [],
   "source": [
    "df4 = pd.read_csv('scraped4.csv')"
   ]
  },
  {
   "cell_type": "code",
   "execution_count": 24,
   "metadata": {},
   "outputs": [
    {
     "data": {
      "text/plain": [
       "(670, 13)"
      ]
     },
     "execution_count": 24,
     "metadata": {},
     "output_type": "execute_result"
    }
   ],
   "source": [
    "df4.shape"
   ]
  },
  {
   "cell_type": "code",
   "execution_count": 27,
   "metadata": {},
   "outputs": [],
   "source": [
    "scraped_main = pd.concat([df1, df2, df3, df4], axis = 0)"
   ]
  },
  {
   "cell_type": "code",
   "execution_count": 29,
   "metadata": {},
   "outputs": [],
   "source": [
    "scraped_main.drop(columns =['Unnamed: 0'], inplace = True)"
   ]
  },
  {
   "cell_type": "code",
   "execution_count": 30,
   "metadata": {},
   "outputs": [],
   "source": [
    "scraped_main.to_csv('scraped_main.csv')"
   ]
  },
  {
   "cell_type": "code",
   "execution_count": null,
   "metadata": {},
   "outputs": [],
   "source": []
  }
 ],
 "metadata": {
  "kernelspec": {
   "display_name": "Python 3",
   "language": "python",
   "name": "python3"
  },
  "language_info": {
   "codemirror_mode": {
    "name": "ipython",
    "version": 3
   },
   "file_extension": ".py",
   "mimetype": "text/x-python",
   "name": "python",
   "nbconvert_exporter": "python",
   "pygments_lexer": "ipython3",
   "version": "3.8.3"
  }
 },
 "nbformat": 4,
 "nbformat_minor": 2
}
